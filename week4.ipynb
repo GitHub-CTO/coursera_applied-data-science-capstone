{
 "cells": [
  {
   "cell_type": "markdown",
   "metadata": {},
   "source": [
    "# Capstone Project - The Battle of Neighborhoods\n",
    "\n",
    "Applied Data Science Capstone from IBM (on Coursera.org)"
   ]
  },
  {
   "cell_type": "markdown",
   "metadata": {},
   "source": [
    "## 1. Introduction"
   ]
  },
  {
   "cell_type": "markdown",
   "metadata": {},
   "source": [
    "### 1.1 Background\n",
    "\n",
    "In \"Applied Data Science Capstone\" course, we explored, segmented, and clustered the neighborhoods in the city of Toronto based on venues in each postcode area.\n",
    "\n",
    "This capstone project will continue the same analysis with additional features (such as elementary and secondary schools' ratings, 2016 census data from Statistic Canada, and housing data from HouseSigma) to better describe the characteristics of each neighborhood."
   ]
  },
  {
   "cell_type": "markdown",
   "metadata": {},
   "source": [
    "### 1.2 Problem\n",
    "\n",
    "There are many factors that could characterized a neighborhood besides venues or interest points.\n",
    "\n",
    "Other factors could include, but not limited to, house and rental pricing, availability of good elementary and scondary schools for the children, average family incomes for selection reference.\n",
    "\n",
    "This analysis tries to answer the question: Which neighborhoods have the similar features  from where a family with young children can purchase a residential property?"
   ]
  },
  {
   "cell_type": "markdown",
   "metadata": {},
   "source": [
    "### 1.3 Interest\n",
    "\n",
    "Families with young children of school age who are looking for a residential property in City of Toronto.\n",
    "\n",
    "Note: _Residential property or house_ referring here could be a detached house, semi-detached house, townhouse, or apartment."
   ]
  },
  {
   "cell_type": "markdown",
   "metadata": {},
   "source": [
    "## 2. Data Acquisition and Cleaning"
   ]
  },
  {
   "cell_type": "markdown",
   "metadata": {},
   "source": [
    "### FSA Postcodes of City of Toronto\n",
    "[https://en.wikipedia.org/wiki/List_of_postal_codes_of_Canada:_M](https://en.wikipedia.org/wiki/List_of_postal_codes_of_Canada:_M)\n",
    "\n",
    "HTML scraping to get all Forward Sortation Area (FSA) postcodes, boroughs, and neighbourhoods in City of Toronto.\n",
    "\n",
    "These data cleaning steps will be applied:\n",
    "- The dataframe will consist of three columns: Postcode, Borough, and Neighborhood\n",
    "- Only process the cells that have an assigned borough. Ignore cells with a borough that is Not assigned.\n",
    "- More than one neighborhood can exist in one postal code area. For example, in the table on the Wikipedia page, you will notice that M5A is listed twice and has two neighborhoods: Harbourfront and Regent Park. These two rows will be combined into one row with the neighborhoods separated with a comma as shown in row 11 in the above table.\n",
    "- If a cell has a borough but a Not assigned neighborhood, then the neighborhood will be the same as the borough. So for the 9th cell in the table on the Wikipedia page, the value of the Borough and the Neighborhood columns will be Queen's Park.\n",
    "\n",
    "Note: The FSA postcodes are the first three characters of Canadian postal codes.  For example, _M5H_ is the FSA postcode for the postal code '_M5H_ 2N2' (where Toronto City Hall is located).\n",
    "\n",
    "In addition, the latitude and longitudes coordinates of each FSA postcode will be loaded from [http://cocl.us/Geospatial_data/Geospatial_Coordinates.csv](http://cocl.us/Geospatial_data/Geospatial_Coordinates.csv) file."
   ]
  },
  {
   "cell_type": "markdown",
   "metadata": {},
   "source": [
    "### Foursquare Location Data\n",
    "\n",
    "Foursquare API will be used to find out the following in a postcode area:\n",
    "- Venues: Limited to maximum 100 venues\n",
    "- Schools (education)\n",
    "- Subway stations (transportation): How many subway stations in 800m (10 min walking distance)\n",
    "- Bus stops (trasportation): How many bus stops in 800m (10 min walking distnace)"
   ]
  },
  {
   "cell_type": "markdown",
   "metadata": {},
   "source": [
    "### Fraser Institue - School Ranking\n",
    "\n",
    "HTML scraping to find out school rankings:\n",
    "- Elemntary: [http://ontario.compareschoolrankings.org/elementary/SchoolsByRankLocationName.aspx?schooltype=elementary](http://ontario.compareschoolrankings.org/elementary/SchoolsByRankLocationName.aspx?schooltype=elementary)\n",
    "- Seconary: [http://ontario.compareschoolrankings.org/secondary/SchoolsByRankLocationName.aspx?schooltype=secondary](http://ontario.compareschoolrankings.org/secondary/SchoolsByRankLocationName.aspx?schooltype=secondary)\n",
    "\n",
    "School rankings are between 0 to 10.  Division by 10 (ten) will be needed to normalize school rankings for clustering.\n",
    "\n",
    "We will ignore schools without school rankings from this data source."
   ]
  },
  {
   "cell_type": "markdown",
   "metadata": {},
   "source": [
    "### HouseSigma - Median Price Report\n",
    "\n",
    "[https://housesigma.com/site/en/analyze/city-median-price-report](https://housesigma.com/site/en/analyze/city-median-price-report)\n",
    "\n",
    "HTML scraping to collect median pricing for detached houses, semi-detached houses, freehold townhouses, condo townhouses, and codo appartments in Canadian dollars.\n",
    "\n",
    "Data in this report are provided in cities and their communities, not in FSA postcodes.  However, these communities have naming close to neighborhood from FSA postcode data source.  But some cleaning will still be needed, for example, the report of _Wexford-Maryvale_ community in  Scarborough (borough) is broken down into two neighborhoods: _Wexford Heights_ and _Maryvale_ in FSA postcodes above."
   ]
  },
  {
   "cell_type": "markdown",
   "metadata": {},
   "source": [
    "### Statistics Canada - 2016 Census\n",
    "\n",
    "HTML scraping to find out demographic and economic data (such as average family income) in a FSA postcode area.\n",
    "\n",
    "For example, hyperlink for M5H postcode (as Code1 parameter in the URL):\n",
    "[https://www12.statcan.gc.ca/census-recensement/2016/dp-pd/prof/details/page.cfm?Lang=E&Geo1=FSA&Code1=M5H&Geo2=PR&Code2=35&SearchText=M6H&SearchType=Begins&SearchPR=01&B1=All&TABID=2&type=0](https://www12.statcan.gc.ca/census-recensement/2016/dp-pd/prof/details/page.cfm?Lang=E&Geo1=FSA&Code1=M5H&Geo2=PR&Code2=35&SearchText=M6H&SearchType=Begins&SearchPR=01&B1=All&TABID=2&type=0)"
   ]
  },
  {
   "cell_type": "code",
   "execution_count": null,
   "metadata": {},
   "outputs": [],
   "source": []
  }
 ],
 "metadata": {
  "kernelspec": {
   "display_name": "Python 3",
   "language": "python",
   "name": "python3"
  },
  "language_info": {
   "codemirror_mode": {
    "name": "ipython",
    "version": 3
   },
   "file_extension": ".py",
   "mimetype": "text/x-python",
   "name": "python",
   "nbconvert_exporter": "python",
   "pygments_lexer": "ipython3",
   "version": "3.7.4"
  }
 },
 "nbformat": 4,
 "nbformat_minor": 2
}
